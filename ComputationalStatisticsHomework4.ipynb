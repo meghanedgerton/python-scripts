{
 "cells": [
  {
   "cell_type": "markdown",
   "metadata": {},
   "source": [
    "# Meghan Edgerton\n",
    "## MATH 472 Homework 4\n",
    "## Due 02/13/2020"
   ]
  },
  {
   "cell_type": "markdown",
   "metadata": {},
   "source": [
    "## Problem 2.5\n",
    "There were 46 crude oil spills of at least 1000 barrels from tankers in the US waters during 1974-1999. The website for this book contains the following data: the number of spills in the $i$th year, $N_i$; the estimated amount of oil shipped through US waters as part of US import/export operations in the $i$th year, adjusted for spillage in international or foreign waters, $b_{i1}$; and the amount of oil shipped through US waters during domestic shipments in the $i$th year, $b_{i2}$. The data are adapted. Oil shipment amounts are measured in billions of barrels (Bbbl).\n",
    "\n",
    "The volume of oil shipped is a measure of exposure to spill risk. Suppose we use the Poisson process assumption given by $N_i|b_{i1}, b_{i2} \\sim $ Poisson($\\lambda_i$), where $\\lambda_i = \\alpha_1 b_{i1} + \\alpha_2 b_{i2}$. The parameters of this model are $\\alpha_1$ and $\\alpha_2$, which represent the rate of spill occurrence per Bbbl oil shipped during import/export and domestic shipments, respectively."
   ]
  },
  {
   "cell_type": "markdown",
   "metadata": {},
   "source": [
    "### (a) Derive the Newton-Raphson update for finding the MLEs of $\\alpha_1$ and $\\alpha_2$"
   ]
  },
  {
   "cell_type": "markdown",
   "metadata": {},
   "source": [
    "### (a) solution"
   ]
  },
  {
   "cell_type": "markdown",
   "metadata": {},
   "source": [
    "First the log-likelihood function must be calculated. \n",
    "$L(\\lambda) = \\prod_{i=1}^{n}exp\\{-\\lambda\\}(\\frac{\\lambda^{x}}{x!})$\n",
    "\n",
    "Since $\\lambda = \\alpha\\beta$ and $x_{i} = N_{i}$,\n",
    "\n",
    "$L(\\alpha) = \\prod_{i=1}^{n} \\frac{\\lambda^{N}}{N!} exp\\{-\\alpha^{T}\\beta\\}$\n",
    "\n",
    "$log L(\\alpha) = l(\\alpha) = n\\sum_{i=1}^{n} log\\{\\alpha^{T}\\beta\\} - log\\{N_{i}!\\} - \\sum_{i=1}^{n} \\alpha^{T}\\beta_{i}$\n",
    "\n",
    "$l'(\\alpha) = \\sum_{i=1}^{n} \\frac{N_{i}\\beta_{i}}{\\alpha^{T}\\beta_{i}} - \\sum_{i=1}^{n} \\beta_{i}$\n",
    "\n",
    "$l''(\\alpha) = -\\sum_{i=1}^{n} \\frac{N_{i}\\beta_{i}\\beta_{i}^{T}}{(\\alpha^{T}\\beta_{i})^{2}}$\n",
    "\n",
    "So, the Newton-Raphson update for finding MLEs of $\\alpha_{1}$ and $\\alpha_{2}$ is this:\n",
    "\n",
    "$\\alpha^{(t+1)} = \\alpha^{(t)} - [l''(\\alpha^{(t)})]^{-1} l'(\\alpha^{(t)})$\n",
    "\n",
    "$\\alpha^{(t+1)} = \\alpha^{(t)} - [-\\sum_{i=1}^{n} \\frac{N_{i}\\beta_{i}\\beta_{i}^{T}}{(\\alpha^{T}\\beta_{i})^{2}}]^{-1} * [\\sum_{i=1}^{n} \\frac{N_{i}\\beta_{i}}{\\alpha^{T}\\beta_{i}} - \\sum_{i=1}^{n} \\beta_{i}]$"
   ]
  },
  {
   "cell_type": "markdown",
   "metadata": {},
   "source": [
    "### (b) Derive the Fisher scoring update for finding the MLEs of $\\alpha_1$ and $\\alpha_2$."
   ]
  },
  {
   "cell_type": "markdown",
   "metadata": {},
   "source": [
    "### (b) solution"
   ]
  },
  {
   "cell_type": "markdown",
   "metadata": {},
   "source": [
    "The Fisher Scoring Update is calculated by:\n",
    "\n",
    "$I(\\alpha) = -E(l''(\\alpha))$\n",
    "\n",
    "$I(\\alpha) = -E(-\\sum_{i=1}^{n} \\frac{N_{i}}{\\alpha^{T}\\beta_{i}}\\beta_{i}\\beta^{T})$\n",
    "\n",
    "$I(\\alpha) = \\sum_{i=1}^{n} \\frac{E(N_{i})\\beta_{i}\\beta_{i}^{T}}{(\\alpha^{T}\\beta)^{2}} = \\sum_{i=1}^{n} \\frac{(\\alpha^{T}\\beta)\\beta_{i}\\beta_{i}^{T}}{(\\alpha^{T}\\beta)^{2}}$\n",
    "\n",
    "$I(\\alpha) = \\sum_{i=1}^{n} \\frac{1}{\\alpha^{T}\\beta}\\beta_{i}\\beta_{i}^{T}$\n",
    "\n",
    "Therefore, the Fisher scoring update for find the MLEs of $\\alpha_{1}$ and $\\alpha_{2}$ is:\n",
    "\n",
    "$\\alpha^{(t+1)} = \\alpha^{(t)} + [I(\\alpha^{(t)})]^{-1} l'(\\alpha^{(t)})$"
   ]
  },
  {
   "cell_type": "markdown",
   "metadata": {},
   "source": [
    "### (c) Implement the Newton-Raphson and Fisher scoring methods for this problem, provide the MLEs of $\\alpha_1$ and $\\alpha_2$, and compare the implementation ease and performance of the two methods."
   ]
  },
  {
   "cell_type": "code",
   "execution_count": 1,
   "metadata": {},
   "outputs": [
    {
     "name": "stdout",
     "output_type": "stream",
     "text": [
      "      year  spills  importexport  domestic\n",
      "0   1974.0     2.0         0.720      0.22\n",
      "1   1975.0     5.0         0.850      0.17\n",
      "2   1976.0     3.0         1.120      0.15\n",
      "3   1977.0     3.0         1.345      0.20\n",
      "4   1978.0     1.0         1.290      0.59\n",
      "5   1979.0     5.0         1.260      0.64\n",
      "6   1980.0     2.0         1.015      0.84\n",
      "7   1981.0     2.0         0.870      0.87\n",
      "8   1982.0     1.0         0.750      0.94\n",
      "9   1983.0     1.0         0.605      0.99\n",
      "10  1984.0     1.0         0.570      0.92\n",
      "11  1985.0     2.0         0.540      1.00\n",
      "12  1986.0     3.0         0.720      0.99\n",
      "13  1987.0     4.0         0.790      1.06\n",
      "14  1988.0     2.0         0.840      1.00\n",
      "15  1989.0     2.0         0.995      0.88\n",
      "16  1990.0     3.0         1.030      0.82\n",
      "17  1991.0     2.0         0.975      0.82\n",
      "18  1992.0     1.0         1.070      0.76\n",
      "19  1993.0     0.0         1.190      0.66\n",
      "20  1994.0     0.0         1.290      0.65\n",
      "21  1995.0     1.0         1.235      0.59\n",
      "22  1996.0     0.0         1.340      0.56\n",
      "23  1997.0     0.0         1.440      0.51\n",
      "24  1998.0     0.0         1.450      0.42\n",
      "25  1999.0     0.0         1.510      0.44\n"
     ]
    }
   ],
   "source": [
    "import numpy as np\n",
    "import matplotlib.pyplot as plt  \n",
    "import pandas as pd\n",
    "import math\n",
    "from scipy.linalg import inv\n",
    "\n",
    "# importing the data set\n",
    "data = np.genfromtxt('/Users/megha/Desktop/oilspills.dat',\n",
    "                    skip_header=0,\n",
    "                    names=True,\n",
    "                    delimiter=' ')\n",
    "\n",
    "oilspills = pd.DataFrame(data, columns = ['year','spills','importexport','domestic'])\n",
    "print(oilspills)\n",
    "\n",
    "# instantiating the variables\n",
    "N = oilspills['spills'].to_numpy().reshape(26,1)\n",
    "beta1 = oilspills['importexport'].to_numpy().reshape(26,1)\n",
    "beta2 = oilspills['domestic'].to_numpy().reshape(26,1)\n",
    "beta = np.hstack((beta1,beta2))\n",
    "alpha = np.array([0.1,0.1]).reshape(2,1)\n",
    "\n",
    "# defining all the necessary functions\n",
    "def loglike(alpha,beta,N):\n",
    "    n = N.size\n",
    "    logl = []\n",
    "    sol = np.zeros((alpha.size,1))\n",
    "    for i in range(n):\n",
    "        beta_i = beta[i].reshape(alpha.size,1)\n",
    "        N_i = N[i]\n",
    "        logl.append(N_i*np.log(alpha.T.dot(beta[i])) - np.log(math.factorial(N_i)) - alpha.T.dot(beta[i]))\n",
    "    for x in logl:\n",
    "        sol += x\n",
    "        return sol\n",
    "        \n",
    "def lprime(alpha,beta,N):\n",
    "    n = N.size\n",
    "    summation = []\n",
    "    sol = np.zeros((2,1))\n",
    "    for i in range(n):\n",
    "        beta_i = beta[i].reshape(2,1)\n",
    "        N_i = N[i]\n",
    "        summation.append(N[i]*beta_i*(1/(alpha.T.dot(beta[i]))) - beta_i)\n",
    "    for x in summation:\n",
    "        sol += x\n",
    "    return sol\n",
    "\n",
    "def l2prime(alpha,beta,N):\n",
    "    n = N.size\n",
    "    summation2 = []\n",
    "    sol = np.zeros((2,2))\n",
    "    for i in range(n):\n",
    "        beta_i = beta[i].reshape(2,1)\n",
    "        N_i = np.asscalar(N[i])\n",
    "        summation2.append(-(N_i/(alpha.T.dot(beta_i))**2)*np.outer(beta_i,beta_i.T))\n",
    "    for x in summation2:\n",
    "        sol +=x\n",
    "    return sol\n",
    "\n",
    "def fisher(alpha,beta,N):\n",
    "    n = N.size\n",
    "    fish = []\n",
    "    sol = np.zeros((2,2))\n",
    "    for i in range(n):\n",
    "        beta_i = beta[i].reshape(-1,1)\n",
    "        fish.append((1/(np.dot(alpha.T,beta_i)))*np.outer(beta_i,beta_i.T))\n",
    "    for x in fish:\n",
    "        sol +=x\n",
    "    return sol\n"
   ]
  },
  {
   "cell_type": "markdown",
   "metadata": {},
   "source": [
    "### (c) solution"
   ]
  },
  {
   "cell_type": "code",
   "execution_count": 2,
   "metadata": {},
   "outputs": [
    {
     "name": "stdout",
     "output_type": "stream",
     "text": [
      "\n",
      "Last 5 iterations of the Newton-Raphson Method: \n"
     ]
    },
    {
     "data": {
      "text/html": [
       "<style  type=\"text/css\" >\n",
       "    #T_7b340a6e_4e31_11ea_b63f_88787362e1f1 th {\n",
       "          text-align: center;\n",
       "    }</style><table id=\"T_7b340a6e_4e31_11ea_b63f_88787362e1f1\" ><thead>    <tr>        <th class=\"col_heading level0 col0\" >Iterations</th>        <th class=\"col_heading level0 col1\" >Alpha</th>        <th class=\"col_heading level0 col2\" >M</th>    </tr></thead><tbody>\n",
       "                <tr>\n",
       "                                <td id=\"T_7b340a6e_4e31_11ea_b63f_88787362e1f1row0_col0\" class=\"data row0 col0\" >5</td>\n",
       "                        <td id=\"T_7b340a6e_4e31_11ea_b63f_88787362e1f1row0_col1\" class=\"data row0 col1\" >[[1.09483059]\n",
       " [0.93714589]]</td>\n",
       "                        <td id=\"T_7b340a6e_4e31_11ea_b63f_88787362e1f1row0_col2\" class=\"data row0 col2\" >[[-0.15125971  0.16748217]\n",
       " [ 0.16748217 -0.30677972]]</td>\n",
       "            </tr>\n",
       "            <tr>\n",
       "                                <td id=\"T_7b340a6e_4e31_11ea_b63f_88787362e1f1row1_col0\" class=\"data row1 col0\" >6</td>\n",
       "                        <td id=\"T_7b340a6e_4e31_11ea_b63f_88787362e1f1row1_col1\" class=\"data row1 col1\" >[[1.09714789]\n",
       " [0.93755549]]</td>\n",
       "                        <td id=\"T_7b340a6e_4e31_11ea_b63f_88787362e1f1row1_col2\" class=\"data row1 col2\" >[[-0.15179728  0.16803515]\n",
       " [ 0.16803515 -0.30766415]]</td>\n",
       "            </tr>\n",
       "            <tr>\n",
       "                                <td id=\"T_7b340a6e_4e31_11ea_b63f_88787362e1f1row2_col0\" class=\"data row2 col0\" >7</td>\n",
       "                        <td id=\"T_7b340a6e_4e31_11ea_b63f_88787362e1f1row2_col1\" class=\"data row2 col1\" >[[1.09715253]\n",
       " [0.93755458]]</td>\n",
       "                        <td id=\"T_7b340a6e_4e31_11ea_b63f_88787362e1f1row2_col2\" class=\"data row2 col2\" >[[-0.15179824  0.16803609]\n",
       " [ 0.16803609 -0.30766546]]</td>\n",
       "            </tr>\n",
       "            <tr>\n",
       "                                <td id=\"T_7b340a6e_4e31_11ea_b63f_88787362e1f1row3_col0\" class=\"data row3 col0\" >8</td>\n",
       "                        <td id=\"T_7b340a6e_4e31_11ea_b63f_88787362e1f1row3_col1\" class=\"data row3 col1\" >[[1.09715253]\n",
       " [0.93755458]]</td>\n",
       "                        <td id=\"T_7b340a6e_4e31_11ea_b63f_88787362e1f1row3_col2\" class=\"data row3 col2\" >[[-0.15179824  0.16803609]\n",
       " [ 0.16803609 -0.30766546]]</td>\n",
       "            </tr>\n",
       "            <tr>\n",
       "                                <td id=\"T_7b340a6e_4e31_11ea_b63f_88787362e1f1row4_col0\" class=\"data row4 col0\" >9</td>\n",
       "                        <td id=\"T_7b340a6e_4e31_11ea_b63f_88787362e1f1row4_col1\" class=\"data row4 col1\" >[[1.09715253]\n",
       " [0.93755458]]</td>\n",
       "                        <td id=\"T_7b340a6e_4e31_11ea_b63f_88787362e1f1row4_col2\" class=\"data row4 col2\" >[[-0.15179824  0.16803609]\n",
       " [ 0.16803609 -0.30766546]]</td>\n",
       "            </tr>\n",
       "    </tbody></table>"
      ],
      "text/plain": [
       "<pandas.io.formats.style.Styler at 0x25f738f5b70>"
      ]
     },
     "execution_count": 2,
     "metadata": {},
     "output_type": "execute_result"
    }
   ],
   "source": [
    "#Newton-Raphson Method\n",
    "\n",
    "ls = []\n",
    "iters = 0\n",
    "maxiters = 10\n",
    "n_a = [alpha[0]]\n",
    "n_b = [alpha[1]]\n",
    "\n",
    "# Implementing the Newton Method using the updating equation\n",
    "for i in range(maxiters):\n",
    "    alpha = alpha - inv(l2prime(alpha,beta,N)).dot(lprime(alpha,beta,N))\n",
    "    n_a.append(alpha[0])\n",
    "    n_b.append(alpha[1])\n",
    "    ls.append([iters,alpha,inv(l2prime(alpha,beta,N))])\n",
    "    iters+=1\n",
    "print()\n",
    "# Creating Data frame\n",
    "dfn = pd.DataFrame(ls,columns = [\"Iterations\", \"Alpha\", \"M\"])\n",
    "dfn = dfn.iloc[5:10,:]\n",
    "dfn = dfn.style.hide_index()\n",
    "dfn = dfn.set_table_styles([dict(selector='th',props=[('text-align', 'center')])])\n",
    "\n",
    "print('Last 5 iterations of the Newton-Raphson Method: ')\n",
    "dfn"
   ]
  },
  {
   "cell_type": "code",
   "execution_count": 3,
   "metadata": {
    "scrolled": true
   },
   "outputs": [
    {
     "name": "stdout",
     "output_type": "stream",
     "text": [
      "\n",
      "Last 5 iterations of Fisher Scoring Method:\n"
     ]
    },
    {
     "data": {
      "text/html": [
       "<style  type=\"text/css\" >\n",
       "    #T_7b3cece4_4e31_11ea_8f3b_88787362e1f1 th {\n",
       "          text-align: center;\n",
       "    }</style><table id=\"T_7b3cece4_4e31_11ea_8f3b_88787362e1f1\" ><thead>    <tr>        <th class=\"col_heading level0 col0\" >Iterations</th>        <th class=\"col_heading level0 col1\" >alpha</th>        <th class=\"col_heading level0 col2\" >I^-1</th>    </tr></thead><tbody>\n",
       "                <tr>\n",
       "                                <td id=\"T_7b3cece4_4e31_11ea_8f3b_88787362e1f1row0_col0\" class=\"data row0 col0\" >5</td>\n",
       "                        <td id=\"T_7b3cece4_4e31_11ea_8f3b_88787362e1f1row0_col1\" class=\"data row0 col1\" >[[1.09569853]\n",
       " [0.93975819]]</td>\n",
       "                        <td id=\"T_7b3cece4_4e31_11ea_8f3b_88787362e1f1row0_col2\" class=\"data row0 col2\" >[[ 0.19138819 -0.22811865]\n",
       " [-0.22811865  0.39884789]]</td>\n",
       "            </tr>\n",
       "            <tr>\n",
       "                                <td id=\"T_7b3cece4_4e31_11ea_8f3b_88787362e1f1row1_col0\" class=\"data row1 col0\" >6</td>\n",
       "                        <td id=\"T_7b3cece4_4e31_11ea_8f3b_88787362e1f1row1_col1\" class=\"data row1 col1\" >[[1.09761182]\n",
       " [0.93685851]]</td>\n",
       "                        <td id=\"T_7b3cece4_4e31_11ea_8f3b_88787362e1f1row1_col2\" class=\"data row1 col2\" >[[ 0.19147639 -0.22814415]\n",
       " [-0.22814415  0.39872263]]</td>\n",
       "            </tr>\n",
       "            <tr>\n",
       "                                <td id=\"T_7b3cece4_4e31_11ea_8f3b_88787362e1f1row2_col0\" class=\"data row2 col0\" >7</td>\n",
       "                        <td id=\"T_7b3cece4_4e31_11ea_8f3b_88787362e1f1row2_col1\" class=\"data row2 col1\" >[[1.09700758]\n",
       " [0.93777426]]</td>\n",
       "                        <td id=\"T_7b3cece4_4e31_11ea_8f3b_88787362e1f1row2_col2\" class=\"data row2 col2\" >[[ 0.19144855 -0.22813612]\n",
       " [-0.22813612  0.39876222]]</td>\n",
       "            </tr>\n",
       "            <tr>\n",
       "                                <td id=\"T_7b3cece4_4e31_11ea_8f3b_88787362e1f1row3_col0\" class=\"data row3 col0\" >8</td>\n",
       "                        <td id=\"T_7b3cece4_4e31_11ea_8f3b_88787362e1f1row3_col1\" class=\"data row3 col1\" >[[1.09719829]\n",
       " [0.93748523]]</td>\n",
       "                        <td id=\"T_7b3cece4_4e31_11ea_8f3b_88787362e1f1row3_col2\" class=\"data row3 col2\" >[[ 0.19145734 -0.22813866]\n",
       " [-0.22813866  0.39874973]]</td>\n",
       "            </tr>\n",
       "            <tr>\n",
       "                                <td id=\"T_7b3cece4_4e31_11ea_8f3b_88787362e1f1row4_col0\" class=\"data row4 col0\" >9</td>\n",
       "                        <td id=\"T_7b3cece4_4e31_11ea_8f3b_88787362e1f1row4_col1\" class=\"data row4 col1\" >[[1.09713809]\n",
       " [0.93757648]]</td>\n",
       "                        <td id=\"T_7b3cece4_4e31_11ea_8f3b_88787362e1f1row4_col2\" class=\"data row4 col2\" >[[ 0.19145456 -0.22813786]\n",
       " [-0.22813786  0.39875367]]</td>\n",
       "            </tr>\n",
       "    </tbody></table>"
      ],
      "text/plain": [
       "<pandas.io.formats.style.Styler at 0x25f76b82f98>"
      ]
     },
     "execution_count": 3,
     "metadata": {},
     "output_type": "execute_result"
    }
   ],
   "source": [
    "# Fisher Scoring Method\n",
    "iters = 0\n",
    "maxiters = 10\n",
    "alpha = np.array([.1,2.5]).reshape(2,1)\n",
    "f_a = [alpha[0]]\n",
    "f_b = [alpha[1]]\n",
    "ls = [] \n",
    "\n",
    "# Implemeting the Fisher Scoring Method using the updating equation\n",
    "for i in range(maxiters):\n",
    "    alpha = alpha + inv(fisher(alpha,beta,N)).dot(lprime(alpha,beta,N))\n",
    "    standarderr = np.sqrt(np.diag(inv(fisher(alpha,beta,N))))\n",
    "    f_a.append(alpha[0])\n",
    "    f_b.append(alpha[1])\n",
    "    ls.append([iters,alpha,inv(fisher(alpha,beta,N))])\n",
    "    \n",
    "    iters +=1\n",
    "\n",
    "print()\n",
    "\n",
    "print('Last 5 iterations of Fisher Scoring Method:')\n",
    "dff = pd.DataFrame(ls, columns = [\"Iterations\", \"alpha\", \"I^-1\"])\n",
    "dff = dff.iloc[5:10,:]\n",
    "dff = dff.style.hide_index()\n",
    "dff = dff.set_table_styles([dict(selector = 'th', props=[('text-align', 'center')])])\n",
    "dff"
   ]
  },
  {
   "cell_type": "markdown",
   "metadata": {},
   "source": [
    "### Compare the implementation ease and performance of the Newton-Raphson Method and the Fisher Scoring Method:\n",
    "In my opinion, the ease and accuracy of the Newton-Raphson method and the Fisher Scoring method were both very similar. Both converged in only 10 iterations and the values are very close to one another."
   ]
  },
  {
   "cell_type": "markdown",
   "metadata": {},
   "source": [
    "### (d) Estimate standard errors for the MLEs of $\\alpha_1$ and $\\alpha_2$."
   ]
  },
  {
   "cell_type": "code",
   "execution_count": null,
   "metadata": {},
   "outputs": [],
   "source": []
  },
  {
   "cell_type": "markdown",
   "metadata": {},
   "source": [
    "### (d) solution"
   ]
  },
  {
   "cell_type": "code",
   "execution_count": 4,
   "metadata": {},
   "outputs": [
    {
     "name": "stdout",
     "output_type": "stream",
     "text": [
      "The standard error of alpha 1 is:  0.4375552115281924\n",
      "The standard error of alpha 2 is:  0.6314694568929903\n"
     ]
    }
   ],
   "source": [
    "print('The standard error of alpha 1 is: ', standarderr[0])\n",
    "print('The standard error of alpha 2 is: ', standarderr[1])"
   ]
  },
  {
   "cell_type": "markdown",
   "metadata": {},
   "source": [
    "### (e) Apply the method of steepest ascent. Use step-halving backtracking as necessary."
   ]
  },
  {
   "cell_type": "code",
   "execution_count": 5,
   "metadata": {},
   "outputs": [
    {
     "name": "stderr",
     "output_type": "stream",
     "text": [
      "C:\\Users\\megha\\Anaconda3\\lib\\site-packages\\ipykernel_launcher.py:31: RuntimeWarning: invalid value encountered in log\n",
      "C:\\Users\\megha\\Anaconda3\\lib\\site-packages\\ipykernel_launcher.py:16: RuntimeWarning: invalid value encountered in greater\n",
      "  app.launch_new_instance()\n"
     ]
    }
   ],
   "source": [
    "# Steepest Ascent Method\n",
    "\n",
    "ls = []\n",
    "iters = 0\n",
    "maxiters = 40\n",
    "step = 1\n",
    "alpha = np.array([1,1]).reshape(2,1)\n",
    "as_a = [alpha[0]]\n",
    "as_b = [alpha[1]]\n",
    "\n",
    "# Implementing the Steepest Ascent Method\n",
    "for i in range(maxiters):\n",
    "    new = alpha + step*inv(np.eye(2)).dot(lprime(alpha,beta,N))\n",
    "    as_a.append(new[0])\n",
    "    as_b.append(new[1])\n",
    "    if loglike(new,beta,N)[0] > loglike(alpha,beta,N)[0]:\n",
    "        as_a.append(new[0])\n",
    "        as_b.append(new[1])\n",
    "        ls.append([iters,new])\n",
    "        alpha = new\n",
    "    else: \n",
    "        ls.append([iters,alpha,step])\n",
    "        step = step*0.5\n",
    "    \n",
    "    iters+=1"
   ]
  },
  {
   "cell_type": "markdown",
   "metadata": {},
   "source": [
    "### (e) solution"
   ]
  },
  {
   "cell_type": "code",
   "execution_count": 6,
   "metadata": {
    "scrolled": true
   },
   "outputs": [
    {
     "name": "stdout",
     "output_type": "stream",
     "text": [
      "Last 5 iterations of Steepest Ascent Method:\n"
     ]
    },
    {
     "data": {
      "text/html": [
       "<style  type=\"text/css\" >\n",
       "    #T_7b7ba566_4e31_11ea_ba1c_88787362e1f1 th {\n",
       "          text-align: center;\n",
       "    }</style><table id=\"T_7b7ba566_4e31_11ea_ba1c_88787362e1f1\" ><thead>    <tr>        <th class=\"col_heading level0 col0\" >Iterations</th>        <th class=\"col_heading level0 col1\" >alpha</th>        <th class=\"col_heading level0 col2\" >values</th>    </tr></thead><tbody>\n",
       "                <tr>\n",
       "                                <td id=\"T_7b7ba566_4e31_11ea_ba1c_88787362e1f1row0_col0\" class=\"data row0 col0\" >35</td>\n",
       "                        <td id=\"T_7b7ba566_4e31_11ea_ba1c_88787362e1f1row0_col1\" class=\"data row0 col1\" >[[2.11282285]\n",
       " [1.38717715]]</td>\n",
       "                        <td id=\"T_7b7ba566_4e31_11ea_ba1c_88787362e1f1row0_col2\" class=\"data row0 col2\" >5.82077e-11</td>\n",
       "            </tr>\n",
       "            <tr>\n",
       "                                <td id=\"T_7b7ba566_4e31_11ea_ba1c_88787362e1f1row1_col0\" class=\"data row1 col0\" >36</td>\n",
       "                        <td id=\"T_7b7ba566_4e31_11ea_ba1c_88787362e1f1row1_col1\" class=\"data row1 col1\" >[[2.11282285]\n",
       " [1.38717715]]</td>\n",
       "                        <td id=\"T_7b7ba566_4e31_11ea_ba1c_88787362e1f1row1_col2\" class=\"data row1 col2\" >2.91038e-11</td>\n",
       "            </tr>\n",
       "            <tr>\n",
       "                                <td id=\"T_7b7ba566_4e31_11ea_ba1c_88787362e1f1row2_col0\" class=\"data row2 col0\" >37</td>\n",
       "                        <td id=\"T_7b7ba566_4e31_11ea_ba1c_88787362e1f1row2_col1\" class=\"data row2 col1\" >[[2.11282285]\n",
       " [1.38717715]]</td>\n",
       "                        <td id=\"T_7b7ba566_4e31_11ea_ba1c_88787362e1f1row2_col2\" class=\"data row2 col2\" >1.45519e-11</td>\n",
       "            </tr>\n",
       "            <tr>\n",
       "                                <td id=\"T_7b7ba566_4e31_11ea_ba1c_88787362e1f1row3_col0\" class=\"data row3 col0\" >38</td>\n",
       "                        <td id=\"T_7b7ba566_4e31_11ea_ba1c_88787362e1f1row3_col1\" class=\"data row3 col1\" >[[2.11282285]\n",
       " [1.38717715]]</td>\n",
       "                        <td id=\"T_7b7ba566_4e31_11ea_ba1c_88787362e1f1row3_col2\" class=\"data row3 col2\" >7.27596e-12</td>\n",
       "            </tr>\n",
       "            <tr>\n",
       "                                <td id=\"T_7b7ba566_4e31_11ea_ba1c_88787362e1f1row4_col0\" class=\"data row4 col0\" >39</td>\n",
       "                        <td id=\"T_7b7ba566_4e31_11ea_ba1c_88787362e1f1row4_col1\" class=\"data row4 col1\" >[[2.11282285]\n",
       " [1.38717715]]</td>\n",
       "                        <td id=\"T_7b7ba566_4e31_11ea_ba1c_88787362e1f1row4_col2\" class=\"data row4 col2\" >3.63798e-12</td>\n",
       "            </tr>\n",
       "    </tbody></table>"
      ],
      "text/plain": [
       "<pandas.io.formats.style.Styler at 0x25f7392d390>"
      ]
     },
     "execution_count": 6,
     "metadata": {},
     "output_type": "execute_result"
    }
   ],
   "source": [
    "print('Last 5 iterations of Steepest Ascent Method:')\n",
    "dfsa = pd.DataFrame(ls, columns = [\"Iterations\", \"alpha\",\"values\"])\n",
    "dfsa = dfsa.iloc[35:40,:]\n",
    "dfsa = dfsa.style.hide_index()\n",
    "dfsa = dfsa.set_table_styles([dict(selector = 'th', props=[('text-align', 'center')])])\n",
    "dfsa"
   ]
  },
  {
   "cell_type": "markdown",
   "metadata": {},
   "source": [
    "### (f) Apply quasi-Newton optimization with the Hessian approximation update given in (2.49). Compare performance with and without step-halving."
   ]
  },
  {
   "cell_type": "code",
   "execution_count": 7,
   "metadata": {},
   "outputs": [
    {
     "name": "stdout",
     "output_type": "stream",
     "text": [
      "Last 5 iterations of MLE using Quasi-Newton Method: \n"
     ]
    },
    {
     "data": {
      "text/html": [
       "<style  type=\"text/css\" >\n",
       "    #T_7b926970_4e31_11ea_9666_88787362e1f1 th {\n",
       "          text-align: center;\n",
       "    }</style><table id=\"T_7b926970_4e31_11ea_9666_88787362e1f1\" ><thead>    <tr>        <th class=\"col_heading level0 col0\" >Iterations</th>        <th class=\"col_heading level0 col1\" >Alpha</th>        <th class=\"col_heading level0 col2\" >Values</th>    </tr></thead><tbody>\n",
       "                <tr>\n",
       "                                <td id=\"T_7b926970_4e31_11ea_9666_88787362e1f1row0_col0\" class=\"data row0 col0\" >35</td>\n",
       "                        <td id=\"T_7b926970_4e31_11ea_9666_88787362e1f1row0_col1\" class=\"data row0 col1\" >[[1.09715254]\n",
       " [0.93755458]]</td>\n",
       "                        <td id=\"T_7b926970_4e31_11ea_9666_88787362e1f1row0_col2\" class=\"data row0 col2\" >[[42.82239454 17.58789401]\n",
       " [17.58789401 10.46278627]]</td>\n",
       "            </tr>\n",
       "            <tr>\n",
       "                                <td id=\"T_7b926970_4e31_11ea_9666_88787362e1f1row1_col0\" class=\"data row1 col0\" >36</td>\n",
       "                        <td id=\"T_7b926970_4e31_11ea_9666_88787362e1f1row1_col1\" class=\"data row1 col1\" >[[1.09715254]\n",
       " [0.93755458]]</td>\n",
       "                        <td id=\"T_7b926970_4e31_11ea_9666_88787362e1f1row1_col2\" class=\"data row1 col2\" >[[42.82239454 17.58789401]\n",
       " [17.58789401 10.46278627]]</td>\n",
       "            </tr>\n",
       "            <tr>\n",
       "                                <td id=\"T_7b926970_4e31_11ea_9666_88787362e1f1row2_col0\" class=\"data row2 col0\" >37</td>\n",
       "                        <td id=\"T_7b926970_4e31_11ea_9666_88787362e1f1row2_col1\" class=\"data row2 col1\" >[[1.09715254]\n",
       " [0.93755458]]</td>\n",
       "                        <td id=\"T_7b926970_4e31_11ea_9666_88787362e1f1row2_col2\" class=\"data row2 col2\" >[[42.82239454 17.58789401]\n",
       " [17.58789401 10.46278627]]</td>\n",
       "            </tr>\n",
       "            <tr>\n",
       "                                <td id=\"T_7b926970_4e31_11ea_9666_88787362e1f1row3_col0\" class=\"data row3 col0\" >38</td>\n",
       "                        <td id=\"T_7b926970_4e31_11ea_9666_88787362e1f1row3_col1\" class=\"data row3 col1\" >[[1.09715253]\n",
       " [0.93755458]]</td>\n",
       "                        <td id=\"T_7b926970_4e31_11ea_9666_88787362e1f1row3_col2\" class=\"data row3 col2\" >[[42.82239454 17.58789401]\n",
       " [17.58789401 10.46278627]]</td>\n",
       "            </tr>\n",
       "            <tr>\n",
       "                                <td id=\"T_7b926970_4e31_11ea_9666_88787362e1f1row4_col0\" class=\"data row4 col0\" >39</td>\n",
       "                        <td id=\"T_7b926970_4e31_11ea_9666_88787362e1f1row4_col1\" class=\"data row4 col1\" >[[1.09715253]\n",
       " [0.93755458]]</td>\n",
       "                        <td id=\"T_7b926970_4e31_11ea_9666_88787362e1f1row4_col2\" class=\"data row4 col2\" >[[42.82239454 17.58789401]\n",
       " [17.58789401 10.46278627]]</td>\n",
       "            </tr>\n",
       "    </tbody></table>"
      ],
      "text/plain": [
       "<pandas.io.formats.style.Styler at 0x25f76bbe0f0>"
      ]
     },
     "execution_count": 7,
     "metadata": {},
     "output_type": "execute_result"
    }
   ],
   "source": [
    "# Quasi-Newton Method Implementation\n",
    "ls = []\n",
    "iters = 0\n",
    "maxiters = 40\n",
    "alpha = np.array([1,1]).reshape(2,1)\n",
    "M = fisher(alpha,beta,N)\n",
    "q_a = [alpha[0]]\n",
    "q_b = [alpha[1]]\n",
    "\n",
    "# Defining the updating fisher matrix\n",
    "def UM(a0,a1,M):\n",
    "    z = a1 - a0\n",
    "    y = lprime(a1,beta,N) - lprime(a0,beta,N)\n",
    "    v = y - M.dot(z)\n",
    "    c = 1/(v.T.dot(z))\n",
    "    if np.abs(v.T.dot(z))<0.01:\n",
    "        return M\n",
    "    if c>0:\n",
    "        return M\n",
    "    else:\n",
    "        return M - c*v.dot(v.T)\n",
    "old = alpha\n",
    "\n",
    "# Implementing the Quasi-Newton Method\n",
    "for i in range(maxiters):\n",
    "    new = old + inv(M).dot(lprime(old,beta,N))\n",
    "    q_a.append(new[0])\n",
    "    q_b.append(new[1])\n",
    "    ls.append([iters,new,M])\n",
    "    M = UM(old,new,M)\n",
    "    old=new\n",
    "    iters+=1\n",
    "    \n",
    "print('Last 5 iterations of MLE using Quasi-Newton Method: ')\n",
    "dfqn = pd.DataFrame(ls[35:40], columns = [\"Iterations\", \"Alpha\", \"Values\"])\n",
    "dfqn = dfqn.style.hide_index()\n",
    "dfqn = dfqn.set_table_styles([dict(selector='th', props=[('text-align', 'center')])])\n",
    "dfqn"
   ]
  },
  {
   "cell_type": "code",
   "execution_count": 8,
   "metadata": {},
   "outputs": [
    {
     "name": "stdout",
     "output_type": "stream",
     "text": [
      "Last 5 iterations for MLE with Quasi-Newton Method using Backtracking\n"
     ]
    },
    {
     "data": {
      "text/html": [
       "<style  type=\"text/css\" >\n",
       "    #T_7ba6c918_4e31_11ea_ba09_88787362e1f1 th {\n",
       "          text-align: center;\n",
       "    }</style><table id=\"T_7ba6c918_4e31_11ea_ba09_88787362e1f1\" ><thead>    <tr>        <th class=\"col_heading level0 col0\" >Iterations</th>        <th class=\"col_heading level0 col1\" >alpha</th>        <th class=\"col_heading level0 col2\" >Values</th>    </tr></thead><tbody>\n",
       "                <tr>\n",
       "                                <td id=\"T_7ba6c918_4e31_11ea_ba09_88787362e1f1row0_col0\" class=\"data row0 col0\" >35</td>\n",
       "                        <td id=\"T_7ba6c918_4e31_11ea_ba09_88787362e1f1row0_col1\" class=\"data row0 col1\" >[[1.09554373]\n",
       " [0.94076472]]</td>\n",
       "                        <td id=\"T_7ba6c918_4e31_11ea_ba09_88787362e1f1row0_col2\" class=\"data row0 col2\" >[[38.05161282 25.28987958]\n",
       " [25.28987958 43.30304998]]</td>\n",
       "            </tr>\n",
       "            <tr>\n",
       "                                <td id=\"T_7ba6c918_4e31_11ea_ba09_88787362e1f1row1_col0\" class=\"data row1 col0\" >36</td>\n",
       "                        <td id=\"T_7ba6c918_4e31_11ea_ba09_88787362e1f1row1_col1\" class=\"data row1 col1\" >[[1.09573542]\n",
       " [0.94038182]]</td>\n",
       "                        <td id=\"T_7ba6c918_4e31_11ea_ba09_88787362e1f1row1_col2\" class=\"data row1 col2\" >[[38.05161282 25.28987958]\n",
       " [25.28987958 43.30304998]]</td>\n",
       "            </tr>\n",
       "            <tr>\n",
       "                                <td id=\"T_7ba6c918_4e31_11ea_ba09_88787362e1f1row2_col0\" class=\"data row2 col0\" >37</td>\n",
       "                        <td id=\"T_7ba6c918_4e31_11ea_ba09_88787362e1f1row2_col1\" class=\"data row2 col1\" >[[1.09590431]\n",
       " [0.94004456]]</td>\n",
       "                        <td id=\"T_7ba6c918_4e31_11ea_ba09_88787362e1f1row2_col2\" class=\"data row2 col2\" >[[38.05161282 25.28987958]\n",
       " [25.28987958 43.30304998]]</td>\n",
       "            </tr>\n",
       "            <tr>\n",
       "                                <td id=\"T_7ba6c918_4e31_11ea_ba09_88787362e1f1row3_col0\" class=\"data row3 col0\" >38</td>\n",
       "                        <td id=\"T_7ba6c918_4e31_11ea_ba09_88787362e1f1row3_col1\" class=\"data row3 col1\" >[[1.0960531 ]\n",
       " [0.93974751]]</td>\n",
       "                        <td id=\"T_7ba6c918_4e31_11ea_ba09_88787362e1f1row3_col2\" class=\"data row3 col2\" >[[38.05161282 25.28987958]\n",
       " [25.28987958 43.30304998]]</td>\n",
       "            </tr>\n",
       "            <tr>\n",
       "                                <td id=\"T_7ba6c918_4e31_11ea_ba09_88787362e1f1row4_col0\" class=\"data row4 col0\" >39</td>\n",
       "                        <td id=\"T_7ba6c918_4e31_11ea_ba09_88787362e1f1row4_col1\" class=\"data row4 col1\" >[[1.09618417]\n",
       " [0.93948588]]</td>\n",
       "                        <td id=\"T_7ba6c918_4e31_11ea_ba09_88787362e1f1row4_col2\" class=\"data row4 col2\" >[[38.05161282 25.28987958]\n",
       " [25.28987958 43.30304998]]</td>\n",
       "            </tr>\n",
       "    </tbody></table>"
      ],
      "text/plain": [
       "<pandas.io.formats.style.Styler at 0x25f76bc5fd0>"
      ]
     },
     "execution_count": 8,
     "metadata": {},
     "output_type": "execute_result"
    }
   ],
   "source": [
    "# Quasi-Newton Method with Backtracking:\n",
    "\n",
    "# Checking if M is a Positive Definite Matrix\n",
    "def positivedef(M):\n",
    "    if np.array_equal(M,M.T):\n",
    "        try:\n",
    "            np.linalg.cholesky(M)\n",
    "            return True\n",
    "        except np.linalg.LinAlError:\n",
    "            return False\n",
    "    else:\n",
    "            return False\n",
    "\n",
    "# Defining the second updating fisher matrix\n",
    "def UM2(a0,a1,M):\n",
    "    z = a1 - a0\n",
    "    y = lprime(a1,beta,N) - lprime(a0,beta,N)\n",
    "    v = y - M.dot(z)\n",
    "    c = 1/(v.T.dot(z))\n",
    "    if np.abs(v.T.dot(z))<0.01:\n",
    "        return M\n",
    "    if c>0:\n",
    "        return M\n",
    "    else:\n",
    "        M = M - c*v.dot(v.T)\n",
    "    while(not positivedef(M)):\n",
    "        c/=2\n",
    "        M=M - c*v.dot(v.T)\n",
    "    return M\n",
    "    \n",
    "\n",
    "iters = 0\n",
    "maxiters = 40\n",
    "alpha = np.array([1,1]).reshape(2,1)\n",
    "old = alpha\n",
    "M = np.eye(2)\n",
    "back_a = [alpha[0]]; back_b = [alpha[1]]\n",
    "ls = [[iters,alpha,M]]\n",
    "for i in range(maxiters):\n",
    "    iters +=1\n",
    "    new = old + inv(M).dot(lprime(old,beta,N))\n",
    "    back_a.append(new[0]); back_b.append(new[1])\n",
    "    ls.append([iters,new,M])\n",
    "    M = UM2(old,new,M)\n",
    "    old=new\n",
    "    \n",
    "print('Last 5 iterations for MLE with Quasi-Newton Method using Backtracking')\n",
    "df = pd.DataFrame(ls[35:40], columns = [\"Iterations\", \"alpha\",\"Values\"])\n",
    "df = df.style.hide_index()\n",
    "df = df.set_table_styles([dict(selector='th', props = [('text-align','center')])])\n",
    "df"
   ]
  },
  {
   "cell_type": "markdown",
   "metadata": {},
   "source": [
    "### (f) solution"
   ]
  },
  {
   "cell_type": "markdown",
   "metadata": {},
   "source": [
    "### Compare the preformance with and without backtracking:\n",
    "Using the Quasi-Newton Method without backtracking was more efficient, because it took fewer iterations to converge. However, both methods were accurate."
   ]
  },
  {
   "cell_type": "markdown",
   "metadata": {},
   "source": [
    "### (g) Construct a graph resemling Figure 2.8 that compares the paths taken by method used in (a)-(f). Choose the plotting region and starting point to best illustrate the features of the algorithms' performance."
   ]
  },
  {
   "cell_type": "code",
   "execution_count": 9,
   "metadata": {},
   "outputs": [
    {
     "name": "stdout",
     "output_type": "stream",
     "text": [
      "\n"
     ]
    },
    {
     "data": {
      "image/png": "[encoded data removed]",
      "text/plain": [
       "<Figure size 432x288 with 1 Axes>"
      ]
     },
     "metadata": {
      "needs_background": "light"
     },
     "output_type": "display_data"
    },
    {
     "data": {
      "text/plain": [
       "<Figure size 432x288 with 0 Axes>"
      ]
     },
     "metadata": {},
     "output_type": "display_data"
    }
   ],
   "source": [
    "# Creating a contour plot and plotting all the different methods used in\n",
    "# the problem on the same plot\n",
    "xs = np.linspace(0.01,2.5,100)\n",
    "ys = np.linspace(0.01,2.5,100)\n",
    "X,Y = np.meshgrid(xs,ys)\n",
    "Zmesh = np.zeros((X.shape[0],Y.shape[0]))\n",
    "\n",
    "for i in range(X.shape[0]):\n",
    "    for j in range(Y.shape[0]):\n",
    "        a_0 = X[i,j] \n",
    "        a_1 = Y[i,j]\n",
    "        a = np.array([a_0,a_1])\n",
    "        Zmesh[i,j]=loglike(a,beta,N)[0]\n",
    "        \n",
    "plt.contourf(X,Y,Zmesh, cmap = 'ocean')\n",
    "plt.plot(n_a,n_b,'ro-')\n",
    "plt.plot(f_a,f_b,'bo-')\n",
    "plt.plot(q_a,q_b,'co--')\n",
    "plt.plot(back_a,back_b,'ko--')\n",
    "plt.title('Contour Plot')\n",
    "plt.legend(['Newton','Fisher', 'Quasi-Newton', 'QN Backtrack'])\n",
    "plt.figure()\n",
    "print()\n"
   ]
  },
  {
   "cell_type": "code",
   "execution_count": null,
   "metadata": {},
   "outputs": [],
   "source": []
  }
 ],
 "metadata": {
  "kernelspec": {
   "display_name": "Python 3",
   "language": "python",
   "name": "python3"
  },
  "language_info": {
   "codemirror_mode": {
    "name": "ipython",
    "version": 3
   },
   "file_extension": ".py",
   "mimetype": "text/x-python",
   "name": "python",
   "nbconvert_exporter": "python",
   "pygments_lexer": "ipython3",
   "version": "3.7.3"
  }
 },
 "nbformat": 4,
 "nbformat_minor": 2
}
