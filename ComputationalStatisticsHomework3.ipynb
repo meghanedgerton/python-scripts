{
 "cells": [
  {
   "cell_type": "code",
   "execution_count": 1,
   "metadata": {},
   "outputs": [],
   "source": [
    "import numpy as np\n",
    "import matplotlib.pyplot as plt\n",
    "import pandas as pd\n",
    "from numpy import array, diag, dot, maximum, empty, repeat, ones, sum\n",
    "from numpy.linalg import inv\n",
    "from scipy.stats import cauchy\n"
   ]
  },
  {
   "cell_type": "code",
   "execution_count": 2,
   "metadata": {
    "scrolled": true
   },
   "outputs": [
    {
     "name": "stdout",
     "output_type": "stream",
     "text": [
      "      match   eyediff  nosecheekdiff  variabilityratio\n",
      "0       1.0  0.009683       0.027914          1.086204\n",
      "1       1.0  0.027614       0.017821          0.989840\n",
      "2       1.0  0.015367       0.025832          1.010983\n",
      "3       1.0  0.013371       0.024048          1.012724\n",
      "4       1.0  0.011428       0.017801          1.044396\n",
      "5       1.0  0.068605       0.050388          0.950818\n",
      "6       1.0  0.009241       0.016042          1.006726\n",
      "7       1.0  0.030349       0.014708          1.018679\n",
      "8       1.0  0.031075       0.069050          1.030790\n",
      "9       0.0  0.007211       0.099909          0.928950\n",
      "10      1.0  0.069537       0.032553          1.033917\n",
      "11      1.0  0.058680       0.181977          1.038102\n",
      "12      1.0  0.024301       0.168968          1.047433\n",
      "13      1.0  0.017598       0.017453          1.030791\n",
      "14      1.0  0.044744       0.016948          1.043411\n",
      "15      1.0  0.081175       0.048825          0.945078\n",
      "16      1.0  0.001031       0.058073          0.979672\n",
      "17      1.0  0.026020       0.002199          0.974393\n",
      "18      1.0  0.010669       0.009787          1.013249\n",
      "19      0.0  0.004858       0.040425          0.977502\n",
      "20      1.0  0.022477       0.002923          0.989965\n",
      "21      1.0  0.064213       0.060118          0.975968\n",
      "22      1.0  0.047974       0.018955          1.022918\n",
      "23      1.0  0.016298       0.037915          0.997726\n",
      "24      1.0  0.090644       0.053423          1.066479\n",
      "25      1.0  0.025402       0.010769          0.997564\n",
      "26      1.0  0.098802       0.099879          1.142524\n",
      "27      1.0  0.010717       0.065048          0.976342\n",
      "28      1.0  0.061342       0.015822          0.956478\n",
      "29      1.0  0.064549       0.034219          0.977218\n",
      "...     ...       ...            ...               ...\n",
      "1012    0.0  0.054830       0.100318          0.984728\n",
      "1013    1.0  0.006443       0.103774          1.009547\n",
      "1014    1.0  0.043745       0.038991          1.007427\n",
      "1015    0.0  0.045964       0.198977          0.999993\n",
      "1016    0.0  0.020067       0.161810          1.085221\n",
      "1017    0.0  0.033043       0.096988          0.943127\n",
      "1018    0.0  0.071088       0.204145          1.067056\n",
      "1019    1.0  0.014847       0.020607          1.004504\n",
      "1020    0.0  0.082969       0.116740          0.965592\n",
      "1021    1.0  0.059404       0.074014          0.940995\n",
      "1022    1.0  0.015810       0.040939          0.961513\n",
      "1023    0.0  0.058065       0.259114          1.195648\n",
      "1024    0.0  0.030245       0.048182          1.124325\n",
      "1025    0.0  0.000421       0.136615          1.082322\n",
      "1026    0.0  0.013122       0.122526          0.999893\n",
      "1027    0.0  0.124406       0.219764          1.068050\n",
      "1028    0.0  0.123939       0.242637          0.930746\n",
      "1029    1.0  0.017000       0.091121          1.074398\n",
      "1030    1.0  0.052111       0.121610          1.181160\n",
      "1031    0.0  0.003282       0.149290          0.954458\n",
      "1032    0.0  0.186653       0.266318          1.052064\n",
      "1033    0.0  0.114141       0.222954          1.038242\n",
      "1034    1.0  0.011866       0.074793          1.019807\n",
      "1035    1.0  0.035781       0.040912          1.039216\n",
      "1036    0.0  0.057498       0.075000          1.077977\n",
      "1037    1.0  0.014945       0.025952          0.946846\n",
      "1038    0.0  0.179608       0.281835          0.968686\n",
      "1039    1.0  0.048259       0.047284          0.988775\n",
      "1040    0.0  0.014961       0.091083          0.976548\n",
      "1041    0.0  0.056910       0.139652          1.018744\n",
      "\n",
      "[1042 rows x 4 columns]\n"
     ]
    }
   ],
   "source": [
    "# Importing the data, display in table\n",
    "data = np.genfromtxt('/Users/megha/Desktop/facerecognition.dat',\n",
    "                    skip_header=0,\n",
    "                    names=True,\n",
    "                    delimiter=' ')\n",
    "\n",
    "facedata = pd.DataFrame(data, columns = ['match','eyediff','nosecheekdiff','variabilityratio'])\n",
    "print(facedata)"
   ]
  },
  {
   "cell_type": "code",
   "execution_count": 3,
   "metadata": {},
   "outputs": [
    {
     "name": "stdout",
     "output_type": "stream",
     "text": [
      "\n",
      "Table 2.1 for Beta_0 = 0.95913, Beta_1 = 0\n"
     ]
    },
    {
     "data": {
      "text/html": [
       "<style  type=\"text/css\" >\n",
       "    #T_3aeb30b4_48a5_11ea_9d00_88787362e1f1 th {\n",
       "          text-align: center;\n",
       "    }</style><table id=\"T_3aeb30b4_48a5_11ea_9d00_88787362e1f1\" ><thead>    <tr>        <th class=\"col_heading level0 col0\" >Iteration, t</th>        <th class=\"col_heading level0 col1\" >Beta</th>        <th class=\"col_heading level0 col2\" >Hessian</th>    </tr></thead><tbody>\n",
       "                <tr>\n",
       "                                <td id=\"T_3aeb30b4_48a5_11ea_9d00_88787362e1f1row0_col0\" class=\"data row0 col0\" >0</td>\n",
       "                        <td id=\"T_3aeb30b4_48a5_11ea_9d00_88787362e1f1row0_col1\" class=\"data row0 col1\" >[[  1.72028763]\n",
       " [-13.90963144]]</td>\n",
       "                        <td id=\"T_3aeb30b4_48a5_11ea_9d00_88787362e1f1row0_col2\" class=\"data row0 col2\" >[[ 0.01096355 -0.11774922]\n",
       " [-0.11774922  2.24636741]]</td>\n",
       "            </tr>\n",
       "            <tr>\n",
       "                                <td id=\"T_3aeb30b4_48a5_11ea_9d00_88787362e1f1row1_col0\" class=\"data row1 col0\" >1</td>\n",
       "                        <td id=\"T_3aeb30b4_48a5_11ea_9d00_88787362e1f1row1_col1\" class=\"data row1 col1\" >[[  1.75721969]\n",
       " [-13.38389891]]</td>\n",
       "                        <td id=\"T_3aeb30b4_48a5_11ea_9d00_88787362e1f1row1_col2\" class=\"data row1 col2\" >[[ 0.01376919 -0.14444378]\n",
       " [-0.14444378  2.43426036]]</td>\n",
       "            </tr>\n",
       "            <tr>\n",
       "                                <td id=\"T_3aeb30b4_48a5_11ea_9d00_88787362e1f1row2_col0\" class=\"data row2 col0\" >2</td>\n",
       "                        <td id=\"T_3aeb30b4_48a5_11ea_9d00_88787362e1f1row2_col1\" class=\"data row2 col1\" >[[  1.75870063]\n",
       " [-13.40003398]]</td>\n",
       "                        <td id=\"T_3aeb30b4_48a5_11ea_9d00_88787362e1f1row2_col2\" class=\"data row2 col2\" >[[ 0.01399076 -0.14439871]\n",
       " [-0.14439871  2.40178607]]</td>\n",
       "            </tr>\n",
       "            <tr>\n",
       "                                <td id=\"T_3aeb30b4_48a5_11ea_9d00_88787362e1f1row3_col0\" class=\"data row3 col0\" >3</td>\n",
       "                        <td id=\"T_3aeb30b4_48a5_11ea_9d00_88787362e1f1row3_col1\" class=\"data row3 col1\" >[[  1.75870116]\n",
       " [-13.40003968]]</td>\n",
       "                        <td id=\"T_3aeb30b4_48a5_11ea_9d00_88787362e1f1row3_col2\" class=\"data row3 col2\" >[[ 0.01400062 -0.1445039 ]\n",
       " [-0.1445039   2.40316643]]</td>\n",
       "            </tr>\n",
       "            <tr>\n",
       "                                <td id=\"T_3aeb30b4_48a5_11ea_9d00_88787362e1f1row4_col0\" class=\"data row4 col0\" >4</td>\n",
       "                        <td id=\"T_3aeb30b4_48a5_11ea_9d00_88787362e1f1row4_col1\" class=\"data row4 col1\" >[[  1.75870116]\n",
       " [-13.40003968]]</td>\n",
       "                        <td id=\"T_3aeb30b4_48a5_11ea_9d00_88787362e1f1row4_col2\" class=\"data row4 col2\" >[[ 0.01400062 -0.14450394]\n",
       " [-0.14450394  2.40316692]]</td>\n",
       "            </tr>\n",
       "    </tbody></table>"
      ],
      "text/plain": [
       "<pandas.io.formats.style.Styler at 0x292872e9940>"
      ]
     },
     "execution_count": 3,
     "metadata": {},
     "output_type": "execute_result"
    }
   ],
   "source": [
    "# Question 1a: Implementing the IRLS algorithm using start value of\n",
    "# 0.95913\n",
    "iters = 40\n",
    "y = facedata['match'].to_numpy().reshape(1042,1)\n",
    "z = facedata['eyediff'].to_numpy().reshape(1042,1)\n",
    "n = z.size\n",
    "ones = np.ones((1042,1))\n",
    "Z = np.hstack((ones,z))\n",
    "\n",
    "w = np.zeros((n,n))\n",
    "pival = np.linspace(0,0,n)\n",
    "betaval = np.array([.0,.0]).reshape(2,1)\n",
    "betaval[0,0] = 0.95913\n",
    "\n",
    "tablelist = []\n",
    "\n",
    "for i in range(5):\n",
    "    pival = (1/(1 + np.exp(-1*Z.dot(betaval)))).reshape(n,1)\n",
    "    fill = pival*(1-pival)\n",
    "    np.fill_diagonal(w,fill)\n",
    "    Hessian = inv(np.linalg.multi_dot((Z.T,w,Z)))\n",
    "    f = Z.T.dot(y-pival)\n",
    "    update = Hessian.dot(f)\n",
    "    betaval = betaval + update\n",
    "    data_value = [i,betaval,Hessian]\n",
    "    tablelist.append(data_value)\n",
    "print()\n",
    "\n",
    "# Formatting the results into a data frame like Table 2.1\n",
    "print('Table 2.1 for Beta_0 = 0.95913, Beta_1 = 0')\n",
    "df = pd.DataFrame(tablelist, columns = ['Iteration, t', 'Beta', 'Hessian'])\n",
    "df = df.style.hide_index()\n",
    "df = df.set_table_styles([dict(selector = 'th', props=[('text-align', 'center')])])\n",
    "df"
   ]
  },
  {
   "cell_type": "code",
   "execution_count": 4,
   "metadata": {},
   "outputs": [
    {
     "name": "stdout",
     "output_type": "stream",
     "text": [
      "\n",
      "Table 2.1 for Beta_0 = 0, Beta_1 = 0\n"
     ]
    },
    {
     "data": {
      "text/html": [
       "<style  type=\"text/css\" >\n",
       "    #T_3af0f37e_48a5_11ea_b58b_88787362e1f1 th {\n",
       "          text-align: center;\n",
       "    }</style><table id=\"T_3af0f37e_48a5_11ea_b58b_88787362e1f1\" ><thead>    <tr>        <th class=\"col_heading level0 col0\" >Iteration, t</th>        <th class=\"col_heading level0 col1\" >Beta</th>        <th class=\"col_heading level0 col2\" >Hessian</th>    </tr></thead><tbody>\n",
       "                <tr>\n",
       "                                <td id=\"T_3af0f37e_48a5_11ea_b58b_88787362e1f1row0_col0\" class=\"data row0 col0\" >0</td>\n",
       "                        <td id=\"T_3af0f37e_48a5_11ea_b58b_88787362e1f1row0_col1\" class=\"data row0 col1\" >[[  1.5016127 ]\n",
       " [-11.14408376]]</td>\n",
       "                        <td id=\"T_3af0f37e_48a5_11ea_b58b_88787362e1f1row0_col2\" class=\"data row0 col2\" >[[ 0.00878375 -0.09433803]\n",
       " [-0.09433803  1.79973903]]</td>\n",
       "            </tr>\n",
       "            <tr>\n",
       "                                <td id=\"T_3af0f37e_48a5_11ea_b58b_88787362e1f1row1_col0\" class=\"data row1 col0\" >1</td>\n",
       "                        <td id=\"T_3af0f37e_48a5_11ea_b58b_88787362e1f1row1_col1\" class=\"data row1 col1\" >[[  1.74440309]\n",
       " [-13.26669118]]</td>\n",
       "                        <td id=\"T_3af0f37e_48a5_11ea_b58b_88787362e1f1row1_col2\" class=\"data row1 col2\" >[[ 0.01246462 -0.12936371]\n",
       " [-0.12936371  2.21900238]]</td>\n",
       "            </tr>\n",
       "            <tr>\n",
       "                                <td id=\"T_3af0f37e_48a5_11ea_b58b_88787362e1f1row2_col0\" class=\"data row2 col0\" >2</td>\n",
       "                        <td id=\"T_3af0f37e_48a5_11ea_b58b_88787362e1f1row2_col1\" class=\"data row2 col1\" >[[  1.75865273]\n",
       " [-13.3995696 ]]</td>\n",
       "                        <td id=\"T_3af0f37e_48a5_11ea_b58b_88787362e1f1row2_col2\" class=\"data row2 col2\" >[[ 0.01390619 -0.14355394]\n",
       " [-0.14355394  2.39141906]]</td>\n",
       "            </tr>\n",
       "            <tr>\n",
       "                                <td id=\"T_3af0f37e_48a5_11ea_b58b_88787362e1f1row3_col0\" class=\"data row3 col0\" >3</td>\n",
       "                        <td id=\"T_3af0f37e_48a5_11ea_b58b_88787362e1f1row3_col1\" class=\"data row3 col1\" >[[  1.75870116]\n",
       " [-13.40003968]]</td>\n",
       "                        <td id=\"T_3af0f37e_48a5_11ea_b58b_88787362e1f1row3_col2\" class=\"data row3 col2\" >[[ 0.0140003  -0.14450065]\n",
       " [-0.14450065  2.40312566]]</td>\n",
       "            </tr>\n",
       "            <tr>\n",
       "                                <td id=\"T_3af0f37e_48a5_11ea_b58b_88787362e1f1row4_col0\" class=\"data row4 col0\" >4</td>\n",
       "                        <td id=\"T_3af0f37e_48a5_11ea_b58b_88787362e1f1row4_col1\" class=\"data row4 col1\" >[[  1.75870116]\n",
       " [-13.40003968]]</td>\n",
       "                        <td id=\"T_3af0f37e_48a5_11ea_b58b_88787362e1f1row4_col2\" class=\"data row4 col2\" >[[ 0.01400062 -0.14450394]\n",
       " [-0.14450394  2.40316692]]</td>\n",
       "            </tr>\n",
       "    </tbody></table>"
      ],
      "text/plain": [
       "<pandas.io.formats.style.Styler at 0x29288af6ac8>"
      ]
     },
     "execution_count": 4,
     "metadata": {},
     "output_type": "execute_result"
    }
   ],
   "source": [
    "# Question 1b: Implement the IRLS algorithm with the start value 0\n",
    "iters = 40\n",
    "y = facedata['match'].to_numpy().reshape(1042,1)\n",
    "z = facedata['eyediff'].to_numpy().reshape(1042,1)\n",
    "n = z.size\n",
    "ones = np.ones((1042,1))\n",
    "Z = np.hstack((ones,z))\n",
    "\n",
    "w = np.zeros((n,n))\n",
    "pival = np.linspace(0,0,n)\n",
    "betaval = np.array([.0,.0]).reshape(2,1)\n",
    "betaval[0,0] = 0.0\n",
    "\n",
    "tablelist2 = []\n",
    "\n",
    "for i in range(5):\n",
    "    pival = (1/(1 + np.exp(-1*Z.dot(betaval)))).reshape(n,1)\n",
    "    fill = pival*(1-pival)\n",
    "    np.fill_diagonal(w,fill)\n",
    "    Hessian = inv(np.linalg.multi_dot((Z.T,w,Z)))\n",
    "    f = Z.T.dot(y-pival)\n",
    "    update = Hessian.dot(f)\n",
    "    betaval = betaval + update\n",
    "    data_value = [i,betaval,Hessian]\n",
    "    tablelist2.append(data_value)\n",
    "    \n",
    "print()\n",
    "\n",
    "# Formatting the results in a dataframe similar to Table 2.1\n",
    "print('Table 2.1 for Beta_0 = 0, Beta_1 = 0')\n",
    "df = pd.DataFrame(tablelist2, columns = ['Iteration, t', 'Beta', 'Hessian'])\n",
    "df = df.style.hide_index()\n",
    "df = df.set_table_styles([dict(selector = 'th', props=[('text-align', 'center')])])\n",
    "df"
   ]
  },
  {
   "cell_type": "code",
   "execution_count": 5,
   "metadata": {},
   "outputs": [
    {
     "data": {
      "text/plain": [
       "Text(0, 0.5, 'B_1')"
      ]
     },
     "execution_count": 5,
     "metadata": {},
     "output_type": "execute_result"
    },
    {
     "data": {
      "image/png": "[encoded data removed]",
      "text/plain": [
       "<Figure size 432x288 with 1 Axes>"
      ]
     },
     "metadata": {
      "needs_background": "light"
     },
     "output_type": "display_data"
    }
   ],
   "source": [
    "# Question 1c: Making a contour plot like Figure 2.7\n",
    "\n",
    "# Creating the mesh grid\n",
    "npoints = 100\n",
    "beta_0 = np.linspace(-2,2,npoints)\n",
    "beta_1 = np.linspace(-15,15,npoints)\n",
    "\n",
    "b_0, b_1 = np.meshgrid(beta_0, beta_1)\n",
    "\n",
    "# Creating log-likelihood function\n",
    "\n",
    "def loglikelihood(y, Z, beta1, beta2):\n",
    "    ones = np.ones((1042,1))\n",
    "    beta = np.array([beta1, beta2]).reshape(2,1)\n",
    "    pi = (1/(1+np.exp(-1*Z.dot(beta)))).reshape(y.size,1)\n",
    "    b = -np.log(1-pi)\n",
    "    return np.linalg.multi_dot((y.T,Z,beta))-b.T.dot(ones)\n",
    "Zmesh = np.zeros((beta_0.shape[0], beta_1.shape[0]))\n",
    "for i in range(beta_0.shape[0]):\n",
    "    for j in range(beta_1.shape[0]):\n",
    "        b0 = b_0[i,j]; b1 = b_1[i,j]\n",
    "        Zmesh[i,j] = loglikelihood(y,Z,b0,b1)\n",
    "        \n",
    "# Creates the figure\n",
    "plt.figure()\n",
    "plt.contourf(beta_0,beta_1,Zmesh, cmap='Purples')\n",
    "plt.title('Figure 2.7 Contour Plot')\n",
    "plt.xlabel('B_0')\n",
    "plt.ylabel('B_1')"
   ]
  },
  {
   "cell_type": "code",
   "execution_count": 6,
   "metadata": {},
   "outputs": [
    {
     "name": "stdout",
     "output_type": "stream",
     "text": [
      "Root is at:  -0.19228646762465867\n",
      "lcauchy(x) at root is:  -72.91581961584615\n",
      "\n",
      "When I changed the start value between the given values, I only got accurate results at 0 and -1. Using the mean of the data as a start point did not give accurate results.\n"
     ]
    },
    {
     "data": {
      "image/png": "[encoded data removed]",
      "text/plain": [
       "<Figure size 432x288 with 1 Axes>"
      ]
     },
     "metadata": {
      "needs_background": "light"
     },
     "output_type": "display_data"
    }
   ],
   "source": [
    "# Question 2.1 on page 54 of Computational Statistics book\n",
    "\n",
    "# Question 2.1a: Graph the log-likelihood function and find the MLE \n",
    "\n",
    "x = np.array([1.77,-0.23,2.76,3.8,3.47,56.75,-1.34,4.24,-2.44,3.29,3.71,-2.40,4.53,-0.07,-1.05,-13.87,-2.53,-1.75,0.27,43.21])\n",
    "\n",
    "def cauchy(x,theta):\n",
    "    return 1/(np.pi*(1+(x-theta)**2))\n",
    "\n",
    "def lcauchy(x, theta):\n",
    "    n = x.size\n",
    "    f = -np.log([1+(x[i]-theta)**2 for i in range(n)]).sum(axis=0)\n",
    "    return -n*np.log(np.pi) + f\n",
    "\n",
    "def lprimecauchy(x,theta):\n",
    "    n = x.size\n",
    "    f = []\n",
    "    for i in range(n):\n",
    "         f.append(2*(x[i]-theta)/((x[i]-theta)**2+1))\n",
    "    return sum(f)\n",
    "         \n",
    "def l2primecauchy(x,theta):\n",
    "    n = x.size\n",
    "    f = []\n",
    "    for i in range(n):\n",
    "         f.append((-2*(theta**2-2*theta*x[i]+x[i]**2-1))/((theta**2-2*theta*x[i]+x[i]**2+1)**2))\n",
    "    return sum(f)\n",
    "         \n",
    "def h(x,theta):\n",
    "    return lprimecauchy(x,theta)/l2primecauchy(x,theta)\n",
    "         \n",
    "\n",
    "domain = np.linspace(-12,12,400)\n",
    "plt.figure()\n",
    "plt.plot(domain, lcauchy(x,domain))\n",
    "plt.title('Log-likelihood Function')\n",
    "plt.xlabel('theta')\n",
    "plt.ylabel('l(theta)')\n",
    "\n",
    "# Finding the MLE for theta using the Newton-Raphson method.\n",
    "samplemean = x.mean()\n",
    "\n",
    "def dx(lcauchy,x,theta):\n",
    "    return abs(0-lcauchy(x,theta))\n",
    "\n",
    "def newtons_method(lprimecauchy, l2primecauchy, x0, theta, e):\n",
    "    delta = dx(lprimecauchy, x0,theta)\n",
    "    while delta > e:\n",
    "        theta = theta + lprimecauchy(x0,theta)/l2primecauchy(x0,theta)\n",
    "        delta = dx(lprimecauchy, x0,theta)\n",
    "    print('Root is at: ', theta)\n",
    "    print('lcauchy(x) at root is: ', lcauchy(x0,theta))\n",
    "    \n",
    "newtons_method(lprimecauchy,l2primecauchy,x,-1,1e-5)\n",
    "print()\n",
    "print('When I changed the start value between the given values, I only got accurate results at 0 and -1. Using the mean of the data as a start point did not give accurate results.')"
   ]
  },
  {
   "cell_type": "code",
   "execution_count": 7,
   "metadata": {},
   "outputs": [
    {
     "name": "stdout",
     "output_type": "stream",
     "text": [
      "The global maximum of the cauchy distribution (result from the bisection algorithm):\n",
      "-0.19228649139404297\n",
      "A scenario in which the bisection method would not work would be if your maximum was not within   the interval.\n"
     ]
    }
   ],
   "source": [
    "# Question 2.1b: Apply the bisection method with starting points -1 and 1.\n",
    "\n",
    "def samesign(a,b):\n",
    "    return a*b > 0 \n",
    "\n",
    "def bisection(lprimecauchy,low,high):\n",
    "    assert not samesign(lprimecauchy(x,low),lprimecauchy(x,high))\n",
    "    midpoint = (low + high) / 2.0\n",
    "    for i in range(20):\n",
    "        if samesign(lprimecauchy(x,low), lprimecauchy(x,midpoint)):\n",
    "            low = midpoint\n",
    "        else:\n",
    "            high = midpoint\n",
    "        midpoint = (low + high) / 2.0\n",
    "        \n",
    "    return midpoint\n",
    "\n",
    "gmax = bisection(lprimecauchy,-1,1)\n",
    "print('The global maximum of the cauchy distribution (result from the bisection algorithm):')\n",
    "print(gmax)\n",
    "print('A scenario in which the bisection method would not work would be if your maximum was not within   the interval.')"
   ]
  },
  {
   "cell_type": "code",
   "execution_count": 8,
   "metadata": {},
   "outputs": [
    {
     "name": "stdout",
     "output_type": "stream",
     "text": [
      "The Fixed Point estimate for alpha = 1.00 is: 0.9214155618890301\n",
      "The Fixed Point estimate for alpha = 0.64 is: 0.22970595960897922\n",
      "The Fixed Point estimate for alpha = 0.25 is: -0.19228661322974042\n",
      "\n",
      "The only alpha value that gave an accurate estimate was alpha = 0.25.\n"
     ]
    }
   ],
   "source": [
    "# Question 2.1c: Apply fixed-point iterations starting from -1 with scaling choices of 1, 0.64\n",
    "# and 0.25\n",
    "\n",
    "k=0\n",
    "alphavals = [1, 0.64, 0.25]\n",
    "\n",
    "for alpha in alphavals:\n",
    "    theta = -1\n",
    "    while lprimecauchy(x,theta)>0.000000000001:\n",
    "        theta = theta + alpha*lprimecauchy(x,theta)\n",
    "        k+=1\n",
    "    print('The Fixed Point estimate for alpha = %.2f is:' %alpha,theta)\n",
    "print()\n",
    "print('The only alpha value that gave an accurate estimate was alpha = 0.25.')"
   ]
  },
  {
   "cell_type": "code",
   "execution_count": 9,
   "metadata": {},
   "outputs": [
    {
     "name": "stdout",
     "output_type": "stream",
     "text": [
      "The Secant Estimate for [-3.00,3.00]:  2.8174721655731316\n",
      "The Secant Estimate for [-2.00,-1.00]:  -0.19228661322965113\n",
      "The Secant Estimate for [-1.00,0.00]:  -0.19228661322965102\n",
      "The Secant Estimate for [0.00,2.00]:  1.713586834809589\n",
      "When (-3,3) and (0,2) are the starting points, the Secant estimate is not  accurate. For the starting points (-2,-1) and (-1,0) the secant estimate is correct.\n"
     ]
    }
   ],
   "source": [
    "# Question 2.1d: Apply the secant method to estimate theta.\n",
    "\n",
    "ai = [-3,-2,-1,0]\n",
    "bi = [3,-1,0,2]\n",
    "\n",
    "for i in range(len(ai)):\n",
    "    k=0\n",
    "    x_0 = ai[i]\n",
    "    x_1 = bi[i]\n",
    "    x_2 = x_0+x_1\n",
    "    fx0 = lprimecauchy(x,x_0); fx1 = lprimecauchy(x,x_1)\n",
    "    while abs((x_0-x_1))>0.000000000000001:\n",
    "        x_2 = x_1 - lprimecauchy(x,x_1)*(x_1-x_0)/(lprimecauchy(x,x_1) - lprimecauchy(x,x_0))\n",
    "        x_0=x_1; x_1=x_2; fx0=fx1; fx1 = lprimecauchy(x,x_2)\n",
    "        k+=1\n",
    "    print('The Secant Estimate for [%.2f,%.2f]: '%(ai[i],bi[i]),x_2)\n",
    "print('When (-3,3) and (0,2) are the starting points, the Secant estimate is not  accurate. For the starting points (-2,-1) and (-1,0) the secant estimate is correct.')"
   ]
  },
  {
   "cell_type": "code",
   "execution_count": 10,
   "metadata": {},
   "outputs": [
    {
     "name": "stdout",
     "output_type": "stream",
     "text": [
      "Question 2.1e: Compare the speed and stability of all the methods used.\n",
      "\n",
      "While all of the methods had similar speeds, I would say that the Newton-Raphson method is the    most stable. This is because the bisection algorithm, secant method, and fixed-point iterations do not work accurately each time, it depends on the starting values.\n"
     ]
    }
   ],
   "source": [
    "print('Question 2.1e: Compare the speed and stability of all the methods used.')\n",
    "print()\n",
    "print('While all of the methods had similar speeds, I would say that the Newton-Raphson method is the    most stable. This is because the bisection algorithm, secant method, and fixed-point iterations do not work accurately each time, it depends on the starting values.')"
   ]
  },
  {
   "cell_type": "code",
   "execution_count": 11,
   "metadata": {},
   "outputs": [
    {
     "name": "stdout",
     "output_type": "stream",
     "text": [
      "The area of the gamma distribution between the lower and upper bounds is: 0.951207104273593\n",
      "The number of iterations done in order to get the correct area: 3283\n",
      "The lower boundary is: 0.06705406129286677\n",
      "The upper boundary is: 4.827892413086407\n"
     ]
    },
    {
     "data": {
      "text/plain": [
       "Text(4, 0.05, 'The upper bound \\n of the interval')"
      ]
     },
     "execution_count": 11,
     "metadata": {},
     "output_type": "execute_result"
    },
    {
     "data": {
      "image/png": "[encoded data removed]",
      "text/plain": [
       "<Figure size 432x288 with 1 Axes>"
      ]
     },
     "metadata": {
      "needs_background": "light"
     },
     "output_type": "display_data"
    }
   ],
   "source": [
    "# Question 2.4: Gamma Distribution\n",
    "from scipy.stats import gamma\n",
    "\n",
    "a=2\n",
    "dom = np.linspace(gamma.ppf(0.0,a), gamma.ppf(0.99,a), 100)\n",
    "probs = gamma.pdf(dom,a)\n",
    "maxprob = np.max(probs)\n",
    "xmax = np.argmax(probs)\n",
    "plt.figure()\n",
    "plt.plot(dom,probs,lw=5,color='b')\n",
    "\n",
    "\n",
    "k=0\n",
    "stepsize = maxprob/10000\n",
    "stepsize = 0.0001\n",
    "area = 0\n",
    "maxiters = 10000\n",
    "\n",
    "while (area<=0.950000 and k<maxiters):\n",
    "    probability = maxprob - k*stepsize\n",
    "    vals = np.abs(probs - probability)\n",
    "    left = vals[0:xmax]\n",
    "    right = vals[xmax:-1]\n",
    "    l_min = np.argmin(left)\n",
    "    r_min = np.argmin(right)\n",
    "    l = dom[l_min]\n",
    "    r = dom[r_min+len(left)]\n",
    "    area = gamma.cdf(r,a) - gamma.cdf(l,a)\n",
    "    k+=1\n",
    "    \n",
    "print('The area of the gamma distribution between the lower and upper bounds is:',area)\n",
    "print('The number of iterations done in order to get the correct area:',k)\n",
    "print('The lower boundary is:',l)\n",
    "print('The upper boundary is:',r)\n",
    "\n",
    "plt.title('Gamma(2,1) Posterior Distribution')\n",
    "plt.xlabel('Gamma')\n",
    "plt.ylabel('pdf of Gamma')\n",
    "plt.axvline(l, linestyle=\"dashed\")\n",
    "plt.axvline(r, linestyle = \"dashed\")\n",
    "plt.annotate(\"The lower bound \\n of the interval\", (0,0.05))\n",
    "plt.annotate(\"The upper bound \\n of the interval\", (4,0.05))"
   ]
  },
  {
   "cell_type": "code",
   "execution_count": null,
   "metadata": {},
   "outputs": [],
   "source": []
  }
 ],
 "metadata": {
  "kernelspec": {
   "display_name": "Python 3",
   "language": "python",
   "name": "python3"
  },
  "language_info": {
   "codemirror_mode": {
    "name": "ipython",
    "version": 3
   },
   "file_extension": ".py",
   "mimetype": "text/x-python",
   "name": "python",
   "nbconvert_exporter": "python",
   "pygments_lexer": "ipython3",
   "version": "3.7.3"
  }
 },
 "nbformat": 4,
 "nbformat_minor": 2
}
